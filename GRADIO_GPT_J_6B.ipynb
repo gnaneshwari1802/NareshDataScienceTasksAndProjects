{
 "cells": [
  {
   "cell_type": "markdown",
   "metadata": {
    "id": "Ko3J-uXeg2T3"
   },
   "source": [
    "## Using Gradio to wrap a text to text interface around GPT-J-6B\n",
    "\n",
    "Check out the library on [github](https://github.com/gradio-app/gradio-UI) and see the [getting started](https://gradio.app/getting_started.html) page for more demos."
   ]
  },
  {
   "cell_type": "markdown",
   "metadata": {
    "id": "npQy3li2g923"
   },
   "source": [
    "### Installs and Imports"
   ]
  },
  {
   "cell_type": "code",
   "execution_count": 4,
   "metadata": {
    "colab": {
     "base_uri": "https://localhost:8080/"
    },
    "id": "NfR2g52--Gus",
    "outputId": "7533a8bf-f063-424c-8af2-28a82780a5ca"
   },
   "outputs": [
    {
     "name": "stdout",
     "output_type": "stream",
     "text": [
      "Note: you may need to restart the kernel to use updated packages.\n"
     ]
    }
   ],
   "source": [
    "pip install --quiet gradio"
   ]
  },
  {
   "cell_type": "code",
   "execution_count": 3,
   "metadata": {},
   "outputs": [
    {
     "name": "stdout",
     "output_type": "stream",
     "text": [
      "Requirement already satisfied: gradio in c:\\users\\gnaneshwari\\.conda\\envs\\tensorflow_env\\lib\\site-packages (4.23.0)\n",
      "Requirement already satisfied: aiofiles<24.0,>=22.0 in c:\\users\\gnaneshwari\\.conda\\envs\\tensorflow_env\\lib\\site-packages (from gradio) (23.2.1)\n",
      "Requirement already satisfied: altair<6.0,>=4.2.0 in c:\\users\\gnaneshwari\\.conda\\envs\\tensorflow_env\\lib\\site-packages (from gradio) (5.2.0)\n",
      "Requirement already satisfied: fastapi in c:\\users\\gnaneshwari\\.conda\\envs\\tensorflow_env\\lib\\site-packages (from gradio) (0.110.0)\n",
      "Requirement already satisfied: ffmpy in c:\\users\\gnaneshwari\\.conda\\envs\\tensorflow_env\\lib\\site-packages (from gradio) (0.3.2)\n",
      "Requirement already satisfied: gradio-client==0.14.0 in c:\\users\\gnaneshwari\\.conda\\envs\\tensorflow_env\\lib\\site-packages (from gradio) (0.14.0)\n",
      "Requirement already satisfied: httpx>=0.24.1 in c:\\users\\gnaneshwari\\.conda\\envs\\tensorflow_env\\lib\\site-packages (from gradio) (0.27.0)\n",
      "Requirement already satisfied: huggingface-hub>=0.19.3 in c:\\users\\gnaneshwari\\.conda\\envs\\tensorflow_env\\lib\\site-packages (from gradio) (0.22.0)\n",
      "Requirement already satisfied: importlib-resources<7.0,>=1.3 in c:\\users\\gnaneshwari\\.conda\\envs\\tensorflow_env\\lib\\site-packages (from gradio) (6.4.0)\n",
      "Requirement already satisfied: jinja2<4.0 in c:\\users\\gnaneshwari\\.conda\\envs\\tensorflow_env\\lib\\site-packages (from gradio) (3.1.3)\n",
      "Requirement already satisfied: markupsafe~=2.0 in c:\\users\\gnaneshwari\\.conda\\envs\\tensorflow_env\\lib\\site-packages (from gradio) (2.1.3)\n",
      "Requirement already satisfied: matplotlib~=3.0 in c:\\users\\gnaneshwari\\.conda\\envs\\tensorflow_env\\lib\\site-packages (from gradio) (3.8.3)\n",
      "Requirement already satisfied: numpy~=1.0 in c:\\users\\gnaneshwari\\.conda\\envs\\tensorflow_env\\lib\\site-packages (from gradio) (1.26.4)\n",
      "Requirement already satisfied: orjson~=3.0 in c:\\users\\gnaneshwari\\.conda\\envs\\tensorflow_env\\lib\\site-packages (from gradio) (3.9.15)\n",
      "Requirement already satisfied: packaging in c:\\users\\gnaneshwari\\.conda\\envs\\tensorflow_env\\lib\\site-packages (from gradio) (23.2)\n",
      "Requirement already satisfied: pandas<3.0,>=1.0 in c:\\users\\gnaneshwari\\.conda\\envs\\tensorflow_env\\lib\\site-packages (from gradio) (2.2.1)\n",
      "Requirement already satisfied: pillow<11.0,>=8.0 in c:\\users\\gnaneshwari\\.conda\\envs\\tensorflow_env\\lib\\site-packages (from gradio) (10.2.0)\n",
      "Requirement already satisfied: pydantic>=2.0 in c:\\users\\gnaneshwari\\.conda\\envs\\tensorflow_env\\lib\\site-packages (from gradio) (2.6.4)\n",
      "Requirement already satisfied: pydub in c:\\users\\gnaneshwari\\.conda\\envs\\tensorflow_env\\lib\\site-packages (from gradio) (0.25.1)\n",
      "Requirement already satisfied: python-multipart>=0.0.9 in c:\\users\\gnaneshwari\\.conda\\envs\\tensorflow_env\\lib\\site-packages (from gradio) (0.0.9)\n",
      "Requirement already satisfied: pyyaml<7.0,>=5.0 in c:\\users\\gnaneshwari\\.conda\\envs\\tensorflow_env\\lib\\site-packages (from gradio) (6.0.1)\n",
      "Requirement already satisfied: ruff>=0.2.2 in c:\\users\\gnaneshwari\\.conda\\envs\\tensorflow_env\\lib\\site-packages (from gradio) (0.3.4)\n",
      "Requirement already satisfied: semantic-version~=2.0 in c:\\users\\gnaneshwari\\.conda\\envs\\tensorflow_env\\lib\\site-packages (from gradio) (2.10.0)\n",
      "Requirement already satisfied: tomlkit==0.12.0 in c:\\users\\gnaneshwari\\.conda\\envs\\tensorflow_env\\lib\\site-packages (from gradio) (0.12.0)\n",
      "Requirement already satisfied: typer<1.0,>=0.9 in c:\\users\\gnaneshwari\\.conda\\envs\\tensorflow_env\\lib\\site-packages (from typer[all]<1.0,>=0.9->gradio) (0.10.0)\n",
      "Requirement already satisfied: typing-extensions~=4.0 in c:\\users\\gnaneshwari\\.conda\\envs\\tensorflow_env\\lib\\site-packages (from gradio) (4.9.0)\n",
      "Requirement already satisfied: uvicorn>=0.14.0 in c:\\users\\gnaneshwari\\.conda\\envs\\tensorflow_env\\lib\\site-packages (from gradio) (0.29.0)\n",
      "Requirement already satisfied: fsspec in c:\\users\\gnaneshwari\\.conda\\envs\\tensorflow_env\\lib\\site-packages (from gradio-client==0.14.0->gradio) (2024.3.1)\n",
      "Requirement already satisfied: websockets<12.0,>=10.0 in c:\\users\\gnaneshwari\\.conda\\envs\\tensorflow_env\\lib\\site-packages (from gradio-client==0.14.0->gradio) (11.0.3)\n",
      "Requirement already satisfied: jsonschema>=3.0 in c:\\users\\gnaneshwari\\.conda\\envs\\tensorflow_env\\lib\\site-packages (from altair<6.0,>=4.2.0->gradio) (4.19.2)\n",
      "Requirement already satisfied: toolz in c:\\users\\gnaneshwari\\.conda\\envs\\tensorflow_env\\lib\\site-packages (from altair<6.0,>=4.2.0->gradio) (0.12.1)\n",
      "Requirement already satisfied: anyio in c:\\users\\gnaneshwari\\.conda\\envs\\tensorflow_env\\lib\\site-packages (from httpx>=0.24.1->gradio) (4.2.0)\n",
      "Requirement already satisfied: certifi in c:\\users\\gnaneshwari\\.conda\\envs\\tensorflow_env\\lib\\site-packages (from httpx>=0.24.1->gradio) (2024.2.2)\n",
      "Requirement already satisfied: httpcore==1.* in c:\\users\\gnaneshwari\\.conda\\envs\\tensorflow_env\\lib\\site-packages (from httpx>=0.24.1->gradio) (1.0.4)\n",
      "Requirement already satisfied: idna in c:\\users\\gnaneshwari\\.conda\\envs\\tensorflow_env\\lib\\site-packages (from httpx>=0.24.1->gradio) (3.4)\n",
      "Requirement already satisfied: sniffio in c:\\users\\gnaneshwari\\.conda\\envs\\tensorflow_env\\lib\\site-packages (from httpx>=0.24.1->gradio) (1.3.0)\n",
      "Requirement already satisfied: h11<0.15,>=0.13 in c:\\users\\gnaneshwari\\.conda\\envs\\tensorflow_env\\lib\\site-packages (from httpcore==1.*->httpx>=0.24.1->gradio) (0.14.0)\n",
      "Requirement already satisfied: filelock in c:\\users\\gnaneshwari\\.conda\\envs\\tensorflow_env\\lib\\site-packages (from huggingface-hub>=0.19.3->gradio) (3.13.3)\n",
      "Requirement already satisfied: requests in c:\\users\\gnaneshwari\\.conda\\envs\\tensorflow_env\\lib\\site-packages (from huggingface-hub>=0.19.3->gradio) (2.31.0)\n",
      "Requirement already satisfied: tqdm>=4.42.1 in c:\\users\\gnaneshwari\\.conda\\envs\\tensorflow_env\\lib\\site-packages (from huggingface-hub>=0.19.3->gradio) (4.66.2)\n",
      "Requirement already satisfied: contourpy>=1.0.1 in c:\\users\\gnaneshwari\\.conda\\envs\\tensorflow_env\\lib\\site-packages (from matplotlib~=3.0->gradio) (1.2.0)\n",
      "Requirement already satisfied: cycler>=0.10 in c:\\users\\gnaneshwari\\.conda\\envs\\tensorflow_env\\lib\\site-packages (from matplotlib~=3.0->gradio) (0.12.1)\n",
      "Requirement already satisfied: fonttools>=4.22.0 in c:\\users\\gnaneshwari\\.conda\\envs\\tensorflow_env\\lib\\site-packages (from matplotlib~=3.0->gradio) (4.50.0)\n",
      "Requirement already satisfied: kiwisolver>=1.3.1 in c:\\users\\gnaneshwari\\.conda\\envs\\tensorflow_env\\lib\\site-packages (from matplotlib~=3.0->gradio) (1.4.5)\n",
      "Requirement already satisfied: pyparsing>=2.3.1 in c:\\users\\gnaneshwari\\.conda\\envs\\tensorflow_env\\lib\\site-packages (from matplotlib~=3.0->gradio) (3.1.2)\n",
      "Requirement already satisfied: python-dateutil>=2.7 in c:\\users\\gnaneshwari\\.conda\\envs\\tensorflow_env\\lib\\site-packages (from matplotlib~=3.0->gradio) (2.8.2)\n",
      "Requirement already satisfied: pytz>=2020.1 in c:\\users\\gnaneshwari\\.conda\\envs\\tensorflow_env\\lib\\site-packages (from pandas<3.0,>=1.0->gradio) (2023.3.post1)\n",
      "Requirement already satisfied: tzdata>=2022.7 in c:\\users\\gnaneshwari\\.conda\\envs\\tensorflow_env\\lib\\site-packages (from pandas<3.0,>=1.0->gradio) (2024.1)\n",
      "Requirement already satisfied: annotated-types>=0.4.0 in c:\\users\\gnaneshwari\\.conda\\envs\\tensorflow_env\\lib\\site-packages (from pydantic>=2.0->gradio) (0.6.0)\n",
      "Requirement already satisfied: pydantic-core==2.16.3 in c:\\users\\gnaneshwari\\.conda\\envs\\tensorflow_env\\lib\\site-packages (from pydantic>=2.0->gradio) (2.16.3)\n",
      "Requirement already satisfied: click<9.0.0,>=7.1.1 in c:\\users\\gnaneshwari\\.conda\\envs\\tensorflow_env\\lib\\site-packages (from typer<1.0,>=0.9->typer[all]<1.0,>=0.9->gradio) (8.1.7)\n",
      "Requirement already satisfied: colorama<0.5.0,>=0.4.3 in c:\\users\\gnaneshwari\\.conda\\envs\\tensorflow_env\\lib\\site-packages (from typer[all]<1.0,>=0.9->gradio) (0.4.6)\n",
      "Requirement already satisfied: shellingham<2.0.0,>=1.3.0 in c:\\users\\gnaneshwari\\.conda\\envs\\tensorflow_env\\lib\\site-packages (from typer[all]<1.0,>=0.9->gradio) (1.5.4)\n",
      "Requirement already satisfied: rich<14.0.0,>=10.11.0 in c:\\users\\gnaneshwari\\.conda\\envs\\tensorflow_env\\lib\\site-packages (from typer[all]<1.0,>=0.9->gradio) (13.7.1)\n",
      "Requirement already satisfied: starlette<0.37.0,>=0.36.3 in c:\\users\\gnaneshwari\\.conda\\envs\\tensorflow_env\\lib\\site-packages (from fastapi->gradio) (0.36.3)\n",
      "Requirement already satisfied: attrs>=22.2.0 in c:\\users\\gnaneshwari\\.conda\\envs\\tensorflow_env\\lib\\site-packages (from jsonschema>=3.0->altair<6.0,>=4.2.0->gradio) (23.1.0)\n",
      "Requirement already satisfied: jsonschema-specifications>=2023.03.6 in c:\\users\\gnaneshwari\\.conda\\envs\\tensorflow_env\\lib\\site-packages (from jsonschema>=3.0->altair<6.0,>=4.2.0->gradio) (2023.7.1)\n",
      "Requirement already satisfied: referencing>=0.28.4 in c:\\users\\gnaneshwari\\.conda\\envs\\tensorflow_env\\lib\\site-packages (from jsonschema>=3.0->altair<6.0,>=4.2.0->gradio) (0.30.2)\n",
      "Requirement already satisfied: rpds-py>=0.7.1 in c:\\users\\gnaneshwari\\.conda\\envs\\tensorflow_env\\lib\\site-packages (from jsonschema>=3.0->altair<6.0,>=4.2.0->gradio) (0.10.6)\n",
      "Requirement already satisfied: six>=1.5 in c:\\users\\gnaneshwari\\.conda\\envs\\tensorflow_env\\lib\\site-packages (from python-dateutil>=2.7->matplotlib~=3.0->gradio) (1.16.0)\n",
      "Requirement already satisfied: markdown-it-py>=2.2.0 in c:\\users\\gnaneshwari\\.conda\\envs\\tensorflow_env\\lib\\site-packages (from rich<14.0.0,>=10.11.0->typer[all]<1.0,>=0.9->gradio) (3.0.0)\n",
      "Requirement already satisfied: pygments<3.0.0,>=2.13.0 in c:\\users\\gnaneshwari\\.conda\\envs\\tensorflow_env\\lib\\site-packages (from rich<14.0.0,>=10.11.0->typer[all]<1.0,>=0.9->gradio) (2.15.1)\n",
      "Requirement already satisfied: exceptiongroup>=1.0.2 in c:\\users\\gnaneshwari\\.conda\\envs\\tensorflow_env\\lib\\site-packages (from anyio->httpx>=0.24.1->gradio) (1.2.0)\n",
      "Requirement already satisfied: charset-normalizer<4,>=2 in c:\\users\\gnaneshwari\\.conda\\envs\\tensorflow_env\\lib\\site-packages (from requests->huggingface-hub>=0.19.3->gradio) (2.0.4)\n",
      "Requirement already satisfied: urllib3<3,>=1.21.1 in c:\\users\\gnaneshwari\\.conda\\envs\\tensorflow_env\\lib\\site-packages (from requests->huggingface-hub>=0.19.3->gradio) (2.1.0)\n",
      "Requirement already satisfied: mdurl~=0.1 in c:\\users\\gnaneshwari\\.conda\\envs\\tensorflow_env\\lib\\site-packages (from markdown-it-py>=2.2.0->rich<14.0.0,>=10.11.0->typer[all]<1.0,>=0.9->gradio) (0.1.2)\n"
     ]
    }
   ],
   "source": [
    "!pip install --upgrade gradio"
   ]
  },
  {
   "cell_type": "code",
   "execution_count": 4,
   "metadata": {
    "colab": {
     "base_uri": "https://localhost:8080/",
     "height": 610
    },
    "id": "fpnqjQor-Guv",
    "outputId": "c9610515-1c37-4a9b-d70e-c23dddc02d4e"
   },
   "outputs": [
    {
     "ename": "AttributeError",
     "evalue": "module 'gradio' has no attribute 'inputs'",
     "output_type": "error",
     "traceback": [
      "\u001b[1;31m---------------------------------------------------------------------------\u001b[0m",
      "\u001b[1;31mAttributeError\u001b[0m                            Traceback (most recent call last)",
      "Cell \u001b[1;32mIn[4], line 11\u001b[0m\n\u001b[0;32m      3\u001b[0m title \u001b[38;5;241m=\u001b[39m \u001b[38;5;124m\"\u001b[39m\u001b[38;5;124mGPT-J-6B\u001b[39m\u001b[38;5;124m\"\u001b[39m\n\u001b[0;32m      4\u001b[0m examples \u001b[38;5;241m=\u001b[39m [\n\u001b[0;32m      5\u001b[0m     [\u001b[38;5;124m'\u001b[39m\u001b[38;5;124mThe tower is 324 metres (1,063 ft) tall,\u001b[39m\u001b[38;5;124m'\u001b[39m],\n\u001b[0;32m      6\u001b[0m     [\u001b[38;5;124m\"\u001b[39m\u001b[38;5;124mThe Moon\u001b[39m\u001b[38;5;124m'\u001b[39m\u001b[38;5;124ms orbit around Earth has\u001b[39m\u001b[38;5;124m\"\u001b[39m],\n\u001b[0;32m      7\u001b[0m     [\u001b[38;5;124m\"\u001b[39m\u001b[38;5;124mThe smooth Borealis basin in the Northern Hemisphere covers 40\u001b[39m\u001b[38;5;124m%\u001b[39m\u001b[38;5;124m\"\u001b[39m]\n\u001b[0;32m      8\u001b[0m ]\n\u001b[0;32m     10\u001b[0m gr\u001b[38;5;241m.\u001b[39mInterface\u001b[38;5;241m.\u001b[39mload(\u001b[38;5;124m\"\u001b[39m\u001b[38;5;124mhuggingface/EleutherAI/gpt-j-6B\u001b[39m\u001b[38;5;124m\"\u001b[39m,\n\u001b[1;32m---> 11\u001b[0m     inputs\u001b[38;5;241m=\u001b[39m\u001b[43mgr\u001b[49m\u001b[38;5;241;43m.\u001b[39;49m\u001b[43minputs\u001b[49m\u001b[38;5;241m.\u001b[39mTextbox(lines\u001b[38;5;241m=\u001b[39m\u001b[38;5;241m5\u001b[39m, label\u001b[38;5;241m=\u001b[39m\u001b[38;5;124m\"\u001b[39m\u001b[38;5;124mInput Text\u001b[39m\u001b[38;5;124m\"\u001b[39m),\n\u001b[0;32m     12\u001b[0m     title\u001b[38;5;241m=\u001b[39mtitle, examples\u001b[38;5;241m=\u001b[39mexamples)\u001b[38;5;241m.\u001b[39mlaunch()\n",
      "\u001b[1;31mAttributeError\u001b[0m: module 'gradio' has no attribute 'inputs'"
     ]
    }
   ],
   "source": [
    "import gradio as gr\n",
    "\n",
    "title = \"GPT-J-6B\"\n",
    "examples = [\n",
    "    ['The tower is 324 metres (1,063 ft) tall,'],\n",
    "    [\"The Moon's orbit around Earth has\"],\n",
    "    [\"The smooth Borealis basin in the Northern Hemisphere covers 40%\"]\n",
    "]\n",
    "\n",
    "gr.Interface.load(\"huggingface/EleutherAI/gpt-j-6B\",\n",
    "    inputs=gr.inputs.Textbox(lines=5, label=\"Input Text\"),\n",
    "    title=title, examples=examples).launch()\n"
   ]
  },
  {
   "cell_type": "markdown",
   "metadata": {
    "id": "VsYULBhZhc0M"
   },
   "source": [
    "#### The model is now live on the gradio.app link shown above. Go ahead and open that in a new tab!"
   ]
  },
  {
   "cell_type": "markdown",
   "metadata": {
    "id": "xn27MzU0hdS2"
   },
   "source": [
    "Please contact us [here](mailto:team@gradio.app) if you have any questions, or [open an issue](https://github.com/gradio-app/gradio-UI/issues/new/choose) at our github repo.\n",
    "\n"
   ]
  }
 ],
 "metadata": {
  "accelerator": "GPU",
  "colab": {
   "provenance": []
  },
  "kernelspec": {
   "display_name": "Python 3 (ipykernel)",
   "language": "python",
   "name": "python3"
  },
  "language_info": {
   "codemirror_mode": {
    "name": "ipython",
    "version": 3
   },
   "file_extension": ".py",
   "mimetype": "text/x-python",
   "name": "python",
   "nbconvert_exporter": "python",
   "pygments_lexer": "ipython3",
   "version": "3.10.13"
  }
 },
 "nbformat": 4,
 "nbformat_minor": 4
}
